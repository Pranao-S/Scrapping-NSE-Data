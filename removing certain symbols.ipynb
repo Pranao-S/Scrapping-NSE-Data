{
 "cells": [
  {
   "cell_type": "code",
   "execution_count": 1,
   "id": "d5d5af28",
   "metadata": {},
   "outputs": [
    {
     "name": "stdout",
     "output_type": "stream",
     "text": [
      "[AAVAS, [ABBOTINDIA, [ALKYLAMINE, [ASIANPAINT, [ASTRAL, [BAJFINANCE, [BERGEPAINT, [DIVISLAB, [DRREDDY, [EASEMYTRIP, [EICHERMOT, [GMMPFAUDLR, [HAPPSTMNDS, [HCLTECH, [HDFC, [HDFCBANK, [HDFCLIFE, [HEROMOTOCO, [HINDUNILVR, [ICICIGI, [INFY, [ITC, [KAJARIACER, [KOTAKBANK, [LALPATHLAB, [LTTS, [MARUTI, [MINDTREE, [NAUKRI, [NESTLEIND, [PAGEIND, [PIDILITIND, [RELAXO, [RELIANCE, [SYNGENE, [TCS, [TITAN, [ULTRACEMCO, [Wipro, [TATAMTRDVR\n"
     ]
    }
   ],
   "source": [
    "a_string = \"[AAVAS], [ABBOTINDIA], [ALKYLAMINE], [ASIANPAINT], [ASTRAL], [BAJFINANCE], [BERGEPAINT], [DIVISLAB], [DRREDDY], [EASEMYTRIP], [EICHERMOT], [GMMPFAUDLR], [HAPPSTMNDS], [HCLTECH], [HDFC], [HDFCBANK], [HDFCLIFE], [HEROMOTOCO], [HINDUNILVR], [ICICIGI], [INFY], [ITC], [KAJARIACER], [KOTAKBANK], [LALPATHLAB], [LTTS], [MARUTI], [MINDTREE], [NAUKRI], [NESTLEIND], [PAGEIND], [PIDILITIND], [RELAXO], [RELIANCE], [SYNGENE], [TCS], [TITAN], [ULTRACEMCO], [Wipro], [TATAMTRDVR]\"\n",
    "\n",
    "a_string = a_string.replace(\"]\", \"\")\n",
    "\n",
    "print(a_string)"
   ]
  },
  {
   "cell_type": "code",
   "execution_count": 2,
   "id": "7cae8a9f",
   "metadata": {},
   "outputs": [
    {
     "name": "stdout",
     "output_type": "stream",
     "text": [
      "AAVAS, ABBOTINDIA, ALKYLAMINE, ASIANPAINT, ASTRAL, BAJFINANCE, BERGEPAINT, DIVISLAB, DRREDDY, EASEMYTRIP, EICHERMOT, GMMPFAUDLR, HAPPSTMNDS, HCLTECH, HDFC, HDFCBANK, HDFCLIFE, HEROMOTOCO, HINDUNILVR, ICICIGI, INFY, ITC, KAJARIACER, KOTAKBANK, LALPATHLAB, LTTS, MARUTI, MINDTREE, NAUKRI, NESTLEIND, PAGEIND, PIDILITIND, RELAXO, RELIANCE, SYNGENE, TCS, TITAN, ULTRACEMCO, Wipro, TATAMTRDVR\n"
     ]
    }
   ],
   "source": [
    "a_string = \"[AAVAS, [ABBOTINDIA, [ALKYLAMINE, [ASIANPAINT, [ASTRAL, [BAJFINANCE, [BERGEPAINT, [DIVISLAB, [DRREDDY, [EASEMYTRIP, [EICHERMOT, [GMMPFAUDLR, [HAPPSTMNDS, [HCLTECH, [HDFC, [HDFCBANK, [HDFCLIFE, [HEROMOTOCO, [HINDUNILVR, [ICICIGI, [INFY, [ITC, [KAJARIACER, [KOTAKBANK, [LALPATHLAB, [LTTS, [MARUTI, [MINDTREE, [NAUKRI, [NESTLEIND, [PAGEIND, [PIDILITIND, [RELAXO, [RELIANCE, [SYNGENE, [TCS, [TITAN, [ULTRACEMCO, [Wipro, [TATAMTRDVR\"\n",
    "\n",
    "a_string = a_string.replace(\"[\", \"\")\n",
    "\n",
    "print(a_string)"
   ]
  },
  {
   "cell_type": "code",
   "execution_count": 4,
   "id": "90363a4a",
   "metadata": {},
   "outputs": [
    {
     "ename": "SyntaxError",
     "evalue": "EOF while scanning triple-quoted string literal (<ipython-input-4-fe47cf9ff930>, line 5)",
     "output_type": "error",
     "traceback": [
      "\u001b[1;36m  File \u001b[1;32m\"<ipython-input-4-fe47cf9ff930>\"\u001b[1;36m, line \u001b[1;32m5\u001b[0m\n\u001b[1;33m    print(a_string)\u001b[0m\n\u001b[1;37m                   \n^\u001b[0m\n\u001b[1;31mSyntaxError\u001b[0m\u001b[1;31m:\u001b[0m EOF while scanning triple-quoted string literal\n"
     ]
    }
   ],
   "source": [
    "a_string = \"AAVAS, ABBOTINDIA, ALKYLAMINE, ASIANPAINT, ASTRAL, BAJFINANCE, BERGEPAINT, DIVISLAB, DRREDDY, EASEMYTRIP, EICHERMOT, GMMPFAUDLR, HAPPSTMNDS, HCLTECH, HDFC, HDFCBANK, HDFCLIFE, HEROMOTOCO, HINDUNILVR, ICICIGI, INFY, ITC, KAJARIACER, KOTAKBANK, LALPATHLAB, LTTS, MARUTI, MINDTREE, NAUKRI, NESTLEIND, PAGEIND, PIDILITIND, RELAXO, RELIANCE, SYNGENE, TCS, TITAN, ULTRACEMCO, Wipro, TATAMTRDVR\"\n",
    "\n",
    "a_string = a_string.replace(\"\", \"\"\")\n",
    "\n",
    "print(a_string)"
   ]
  },
  {
   "cell_type": "code",
   "execution_count": null,
   "id": "924900e5",
   "metadata": {},
   "outputs": [],
   "source": []
  }
 ],
 "metadata": {
  "kernelspec": {
   "display_name": "Python 3",
   "language": "python",
   "name": "python3"
  },
  "language_info": {
   "codemirror_mode": {
    "name": "ipython",
    "version": 3
   },
   "file_extension": ".py",
   "mimetype": "text/x-python",
   "name": "python",
   "nbconvert_exporter": "python",
   "pygments_lexer": "ipython3",
   "version": "3.6.8"
  }
 },
 "nbformat": 4,
 "nbformat_minor": 5
}
